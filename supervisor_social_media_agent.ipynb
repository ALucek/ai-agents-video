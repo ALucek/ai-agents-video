{
 "cells": [
  {
   "cell_type": "markdown",
   "id": "17397bcb-7b23-4e5c-a51d-df35bdab1a3d",
   "metadata": {},
   "source": [
    "# Agent Supervisor Architecture Application\n",
    "Applying a supervisor approach to ideas of social media sentiment analysis\n",
    "\n",
    "---\n",
    "\n",
    "<img src=\"agent_supervisor_diagram.png\" width=400/>\n",
    "\n",
    "---"
   ]
  },
  {
   "cell_type": "markdown",
   "id": "619bc01c-aa00-43ce-a1c3-57f08f1a3596",
   "metadata": {},
   "source": [
    "## Dependencies"
   ]
  },
  {
   "cell_type": "code",
   "execution_count": 1,
   "id": "ce82b21c-361f-4cae-873a-715d89b61925",
   "metadata": {},
   "outputs": [],
   "source": [
    "import os\n",
    "from langchain_core.tools import tool\n",
    "from typing import Annotated, Any, Dict, List, Optional, Sequence, TypedDict\n",
    "from langchain.agents import AgentExecutor, create_openai_tools_agent\n",
    "from langchain_core.messages import BaseMessage, HumanMessage\n",
    "from langchain_openai import ChatOpenAI\n",
    "from langchain_core.runnables import RunnablePassthrough\n",
    "from langchain_core.output_parsers import StrOutputParser\n",
    "from langchain_core.prompts import ChatPromptTemplate, MessagesPlaceholder\n",
    "from langchain.output_parsers.openai_functions import JsonOutputFunctionsParser\n",
    "import functools\n",
    "from langgraph.graph import StateGraph, END\n",
    "import operator"
   ]
  },
  {
   "cell_type": "markdown",
   "id": "ea325030-6f52-43a7-816d-b1b542a83d09",
   "metadata": {},
   "source": [
    "---\n",
    "\n",
    "## Gathering API keys\n",
    "\n",
    "OpenAI and LangChain API key set in environment variable, `langchain_tracing_v2` allows langsmith agent tracing, `langchain_project` determines organization in langsmith"
   ]
  },
  {
   "cell_type": "code",
   "execution_count": 2,
   "id": "3a4381c9-e0fe-430f-a2e3-84cccc7b5721",
   "metadata": {},
   "outputs": [],
   "source": [
    "# openai key, langchain key all environment variables\n",
    "\n",
    "os.environ[\"LANGCHAIN_TRACING_V2\"] = \"True\"\n",
    "os.environ[\"LANGCHAIN_PROJECT\"] = \"Social Collab\""
   ]
  },
  {
   "cell_type": "markdown",
   "id": "401b04ac-d2bf-4768-8979-9cf80198b25a",
   "metadata": {},
   "source": [
    "---\n",
    "# Defining Tools for Agents to use"
   ]
  },
  {
   "cell_type": "markdown",
   "id": "bde5c82c-dc66-4a15-b2f1-e34d73da86d0",
   "metadata": {},
   "source": [
    "*Emotion Analysis Tool*\n",
    "\n",
    "This tool uses a fine tuned version of **GPT-3.5-Turbo** tuned on the [Go Emotions Hugging Face dataset](https://huggingface.co/datasets/go_emotions)  \n",
    "\n",
    "It takes a string input and returns one of 28 Emotion labels."
   ]
  },
  {
   "cell_type": "code",
   "execution_count": 3,
   "id": "ed6058c6-2754-4833-9994-cc766c87a6a1",
   "metadata": {},
   "outputs": [],
   "source": [
    "emotion_analysis_template = \"\"\"\n",
    "You are a cutting edge emotion analysis classification assistant.\\\n",
    "You analyze a comment, and apply one or more emotion labels to it. \\\n",
    "\n",
    "The emotion labels are detailed here: \\\n",
    "\n",
    "['admiration', 'amusement', 'anger', 'annoyance', 'approval', 'caring', 'confusion', 'curiosity', 'desire', 'disappointment', 'disapproval', 'disgust', 'embarassment', 'excitement', 'fear', 'gratitude', 'grief', 'joy', 'love', 'nervousness', 'optimism', 'pride', 'realization', 'relief', 'remorse', 'sadness', 'surprise', 'neutral']\n",
    "\n",
    "Your output should simply be just the respective emotion, and if there are multiple seperated with commas. \\\n",
    "\n",
    "The comment is here: {comment}\n",
    "\"\"\"\n",
    "\n",
    "output_parser = StrOutputParser()\n",
    "emotion_llm = ChatOpenAI(temperature=0.0, model=\"ft:gpt-3.5-turbo-0125:personal:go-emotions:95jDha5f\")\n",
    "emotion_analysis_prompt = ChatPromptTemplate.from_template(emotion_analysis_template)\n",
    "\n",
    "emotion_chain = (\n",
    "    {\"comment\": RunnablePassthrough()} \n",
    "    | emotion_analysis_prompt\n",
    "    | emotion_llm\n",
    "    | output_parser\n",
    ")\n",
    "\n",
    "@tool\n",
    "def analyze_emotion(query: str) -> str:\n",
    "    \"\"\"Analyze the emotion of a string of text\"\"\"\n",
    "    emotion = emotion_chain.invoke(query)\n",
    "    return emotion"
   ]
  },
  {
   "cell_type": "markdown",
   "id": "4b7dd63e-6ce3-48b8-af33-07135ebd3fd4",
   "metadata": {},
   "source": [
    "*Sentiment Analysis Tool*\n",
    "\n",
    "This tool uses a fine tuned version of **GPT-3.5-Turbo** on the [Tweet Sentiment Extraction Hugging Face Dataset](https://huggingface.co/datasets/mteb/tweet_sentiment_extraction)\n",
    "\n",
    "It takes in a string input and returns either Postivie, Neutral, or Negative"
   ]
  },
  {
   "cell_type": "code",
   "execution_count": 4,
   "id": "837baa9d-4770-4bba-aa61-e0f02feb0362",
   "metadata": {},
   "outputs": [],
   "source": [
    "# Sentiment Detecting Tool Definition\n",
    "sentiment_analysis_template = \"\"\"\n",
    "You are a cutting edge emotion sentiment classification assistant.\\\n",
    "You analyze a social media comment, and apply one sentiment label to it. \\\n",
    "The sentiment labels are simple positive, neutral, and negative.\n",
    "Your output should simply be just the respective sentiment. \\\n",
    "\n",
    "The comment is here: {comment}\n",
    "\"\"\"\n",
    "\n",
    "output_parser = StrOutputParser()\n",
    "ft_gpt35t_llm = ChatOpenAI(temperature=0.0, model=\"ft:gpt-3.5-turbo-0125:personal:twitter-sentiment:97Cp4jlV\")\n",
    "sentiment_analysis_prompt = ChatPromptTemplate.from_template(sentiment_analysis_template)\n",
    "\n",
    "sentiment_chain = (\n",
    "    {\"comment\": RunnablePassthrough()} \n",
    "    | sentiment_analysis_prompt\n",
    "    | ft_gpt35t_llm\n",
    "    | output_parser\n",
    ")\n",
    "\n",
    "@tool\n",
    "def analyze_sentiment(query: str) -> str:\n",
    "    \"\"\"Analyze the sentiment of a string of text\"\"\"\n",
    "    sentiment = sentiment_chain.invoke(query)\n",
    "    return sentiment"
   ]
  },
  {
   "cell_type": "markdown",
   "id": "9a427c1f-406b-49ce-98cf-7a43670ca048",
   "metadata": {},
   "source": [
    "*Report Generator Tool*\n",
    "\n",
    "This tool is a prompt chain using **GPT-4-Turbo** that takes in information about social media comments and generates a formatted report with analysis and takeaways."
   ]
  },
  {
   "cell_type": "code",
   "execution_count": 5,
   "id": "cc7de1ad-291d-4bcb-8a31-4d0ebceded2b",
   "metadata": {},
   "outputs": [],
   "source": [
    "# Report Gen Tool Definition\n",
    "report_template = \"\"\"\n",
    "You are a social media specialist going through and performing routine analysis of social media community reaction. \\\n",
    "Specifically, you are analyzing the comments of one of your company's social media posts in order to improve strategy and ideas for future posts. \\\n",
    "Provided is a list of comments and replies for the current social media post. \\\n",
    "Your intent is to provide the overall reaction to this post, and the discussion that ensued from it as a first part, \n",
    "And then discuss specific examples and reccomendations that can used to create new posts that are tailored towards the positive sentiments and emotions, and away from the negative ones. \\\n",
    "Provide examples if useful to the analysis. As you have limited time to present, keep this report to 500 words or less.\\\n",
    "It is critical to be brief and to the point in your social media strategy reccomendations, providing your actionable takeaways and insights as clearly as possible. Ensure that your ideas are unique, realistic, and not broad or boring.\n",
    "\n",
    "Context is here: {context}\n",
    "\"\"\"\n",
    "\n",
    "output_parser = StrOutputParser()\n",
    "report_llm = ChatOpenAI(temperature=0.0, model=\"gpt-4-0125-preview\")\n",
    "report_prompt = ChatPromptTemplate.from_template(report_template)\n",
    "\n",
    "report_chain = (\n",
    "    {\"context\": RunnablePassthrough()} \n",
    "    | report_prompt\n",
    "    | report_llm\n",
    "    | output_parser\n",
    ")\n",
    "\n",
    "@tool\n",
    "def generate_report(query: str) -> str:\n",
    "    \"\"\"Input all robust information about social media data and generate a draft of a report. The more input the better the draft.\"\"\"\n",
    "    report = report_chain.invoke(str(query))\n",
    "    with open(\"generated_report.txt\", 'w') as file:\n",
    "        file.write(report)\n",
    "    return report"
   ]
  },
  {
   "cell_type": "markdown",
   "id": "62f8c97a-ac98-477a-998e-b42784ac14db",
   "metadata": {},
   "source": [
    "*Report Revision Tool*\n",
    "\n",
    "This tool is a prompt chain using **GPT-4-Turbo** that takes a second look at a generated report to either reformat or add additional thoughts."
   ]
  },
  {
   "cell_type": "code",
   "execution_count": 6,
   "id": "b2ef6c5b-3cea-47e3-b4fc-b6b050dfff64",
   "metadata": {},
   "outputs": [],
   "source": [
    "# Revision Definition\n",
    "revision_template = \"\"\"\n",
    "You are a social media specialist helping with the revision of a report. Please analyze and revise this report, ensuring it is, \\\n",
    "professional, specific, and elaborate on any interesting ideas to provide more assistance in helping someone ideate through ideas. \\\n",
    "\n",
    "Context is here: {context}\n",
    "\"\"\"\n",
    "\n",
    "output_parser = StrOutputParser()\n",
    "revision_llm = ChatOpenAI(temperature=0.0, model=\"gpt-4-0125-preview\")\n",
    "revision_prompt = ChatPromptTemplate.from_template(revision_template)\n",
    "\n",
    "revision_chain = (\n",
    "    {\"context\": RunnablePassthrough()} \n",
    "    | revision_prompt\n",
    "    | revision_llm\n",
    "    | output_parser\n",
    ")\n",
    "\n",
    "@tool\n",
    "def revise_report(query: str) -> str:\n",
    "    \"\"\"Take a report, analyze, and refine it for a final output.\"\"\"\n",
    "    report = report_chain.invoke(str(query))\n",
    "    with open(\"revised_report.txt\", 'w') as file:\n",
    "        file.write(report)\n",
    "    return report"
   ]
  },
  {
   "cell_type": "markdown",
   "id": "e927d6b9-986a-4ea2-9986-c639a5352a6d",
   "metadata": {},
   "source": [
    "---\n",
    "# Creating Agents"
   ]
  },
  {
   "cell_type": "markdown",
   "id": "9d8324da-a47e-47db-ae90-75261f11ab6d",
   "metadata": {},
   "source": [
    "### Helper Functions for agent creation\n",
    "\n",
    "Input an LLM as a `ChatOpenAI` object, available tools as a list, and system prompt as a string, and it will format into the correct format.\n",
    "\n",
    "This also includes message placeholders for \"messages,\" or what will be a a list of operations that have happened, and `agent_scratchpad` which acts as the agent's specific memory.\n",
    "\n",
    "The `agent_node` helper will assist in creating the node in the overall agent graph, invoking the agent with the current state of the operation, and outputing a `HumanMessage` object with the output to be used as input into the next node if required"
   ]
  },
  {
   "cell_type": "code",
   "execution_count": 7,
   "id": "a3bb125b-8b2f-41ab-b557-e1ee0f2f050e",
   "metadata": {},
   "outputs": [],
   "source": [
    "# Helper Functions\n",
    "def create_agent(\n",
    "    llm: ChatOpenAI, tools: list, system_prompt: str\n",
    "):\n",
    "    # Each worker node will be given a name and some tools.\n",
    "    prompt = ChatPromptTemplate.from_messages(\n",
    "        [\n",
    "            (\n",
    "                \"system\",\n",
    "                system_prompt,\n",
    "            ),\n",
    "            MessagesPlaceholder(variable_name=\"messages\"),\n",
    "            MessagesPlaceholder(variable_name=\"agent_scratchpad\"),\n",
    "        ]\n",
    "    )\n",
    "    agent = create_openai_tools_agent(llm, tools, prompt)\n",
    "    executor = AgentExecutor(agent=agent, tools=tools)\n",
    "    return executor\n",
    "\n",
    "def agent_node(state, agent, name):\n",
    "    result = agent.invoke(state)\n",
    "    return {\"messages\": [HumanMessage(content=result[\"output\"], name=name)]}"
   ]
  },
  {
   "cell_type": "markdown",
   "id": "d530b5ed-7cb5-4dea-9d2f-5ab0ccb1c82e",
   "metadata": {},
   "source": [
    "## Creating The Main Agent Supervisor\n",
    "\n",
    "Explicit formatting of the main \"supervisor\" that will be facilitating the \"conversation\" between the two sub agent nodes, Analyzer and Writer. Possible output actions are the `members` + `FINISH` to determine where to route or to end in the agent loop. This is set up as an OpenAI function Schema, along with a system prompt properly formatted. Partial here dynamically inserts the options and members into the prompt. \n",
    "\n",
    "Supervisor chain combines the prompt, binds the route function as a tool option to the LLM, with a JSON output parser that helps with interpreting the function calls."
   ]
  },
  {
   "cell_type": "code",
   "execution_count": 8,
   "id": "3ef3b036-079d-4e5c-94cf-200d3acb3a26",
   "metadata": {},
   "outputs": [],
   "source": [
    "members = [\"Analyzer\", \"Writer\"]\n",
    "system_prompt = (\n",
    "    \"You are a supervisor tasked with managing a conversation between the\"\n",
    "    \" following workers: {members}. Given the following user request,\"\n",
    "    \" respond with the worker to act next. Each worker will perform a task and\"\n",
    "    \" respond with their results and status. When finished, respond with FINISH.\"\n",
    ")\n",
    "# Our team supervisor is an LLM node. It just picks the next agent to process and decides when the work is completed\n",
    "options = [\"FINISH\"] + members\n",
    "# using openai function calling can make output parsing easier for us\n",
    "function_def = {\n",
    "    \"name\": \"route\",\n",
    "    \"description\": \"Select the next role.\",\n",
    "    \"parameters\": {\n",
    "        \"title\": \"routeSchema\",\n",
    "        \"type\": \"object\",\n",
    "        \"properties\": {\n",
    "            \"next\": {\n",
    "                \"title\": \"Next\",\n",
    "                \"anyOf\": [\n",
    "                    {\"enum\": options},\n",
    "                ],\n",
    "            }\n",
    "        },\n",
    "        \"required\": [\"next\"],\n",
    "    },\n",
    "}\n",
    "prompt = ChatPromptTemplate.from_messages(\n",
    "    [\n",
    "        (\"system\", system_prompt),\n",
    "        MessagesPlaceholder(variable_name=\"messages\"),\n",
    "        (\n",
    "            \"system\",\n",
    "            \"Given the conversation above, who would act next? Or should we FINISH? Select one of: {options}\",\n",
    "        ),\n",
    "    ]\n",
    ").partial(options=str(options), members=\", \".join(members))\n",
    "\n",
    "llm = ChatOpenAI(model=\"gpt-4-1106-preview\")\n",
    "\n",
    "supervisor_chain = (\n",
    "    prompt\n",
    "    | llm.bind_functions(functions=[function_def], function_call=\"route\")\n",
    "    | JsonOutputFunctionsParser()\n",
    ")"
   ]
  },
  {
   "cell_type": "markdown",
   "id": "61d1ced4-0b12-49c1-ad0a-132faf721434",
   "metadata": {},
   "source": [
    "---\n",
    "\n",
    "# Creating the Graph\n",
    "\n",
    "**AgentState Class**: Defines the structure of the \"state\" that will be passed between agents in the system. `BaseMessage` operators are added in sequence, effectively tracking the workflow as an ongoing conversation or data exchange between agents. `next` is a string that specifies the next agent or node in the workflow to route the process to.\n",
    "\n",
    "**Analysis Agent Setup**: An instance of GPT-4-Turbo is made, then the helper function is invoked with the LLM object, a list of the tools it intends to use `[analyze_emotion, analyze_sentiment]`, and a system prompt. The node uses a partial function of `agent_node` with the agent and name preset, so the node only needs to take in the state as defined in the helper function `agent_node` above.\n",
    "\n",
    "**Writer Agent Setup**: An instance of GPT-3.5-Turbo is made, then the helper function is invoked with the LLM object, a list of tools it intends to use `[generate_report, revise_report]`, and a system prompt. The node is then defined with a partial function of `agent_node` in the same way the analysis agent is made."
   ]
  },
  {
   "cell_type": "code",
   "execution_count": 9,
   "id": "3586d57b-3747-4e95-b693-e82ba78c1991",
   "metadata": {},
   "outputs": [],
   "source": [
    "# The agent state is the input to each node in the graph\n",
    "class AgentState(TypedDict):\n",
    "    # The annotation tells the graph that new messages will always be added to the current states\n",
    "    messages: Annotated[Sequence[BaseMessage], operator.add]\n",
    "    # The 'next' field indicates where to route to next\n",
    "    next: str\n",
    "\n",
    "analysis_llm = ChatOpenAI(model=\"gpt-4-1106-preview\")\n",
    "analysis_agent = create_agent(analysis_llm, [analyze_emotion, analyze_sentiment], \"You are a social media analysis assistant. You thoroughly analyze emotion and sentiment of provided social media data.\")\n",
    "analysis_node = functools.partial(agent_node, agent=analysis_agent, name=\"Analyzer\")\n",
    "\n",
    "write_llm = ChatOpenAI(model=\"gpt-3.5-turbo-0125\")\n",
    "writer_agent = create_agent(write_llm, [generate_report, revise_report], \"You generate robust, helpful, and accurate documents, and look over them at least once more for revision before returning the final output.\")\n",
    "writer_node = functools.partial(agent_node, agent=writer_agent, name=\"Writer\")"
   ]
  },
  {
   "cell_type": "markdown",
   "id": "8cf6af33-ff7a-4f3e-87f6-ded4b61b39bb",
   "metadata": {},
   "source": [
    "### Workflow Setup\n",
    "\n",
    "A `StateGraph` is initialized with the `AgentState` class structure. This graph represents the entire workflow of the system, where nodes represent agents and edges represent the possible transitions based on the agents' outputs.\n",
    "Nodes are added with the `add_node` function using the above defined nodes and a name, with the supervisor node being the above defined chain."
   ]
  },
  {
   "cell_type": "code",
   "execution_count": 10,
   "id": "c5aab118-a946-4cd0-833a-105a8cba419b",
   "metadata": {},
   "outputs": [],
   "source": [
    "workflow = StateGraph(AgentState)\n",
    "workflow.add_node(\"Analyzer\", analysis_node)\n",
    "workflow.add_node(\"Writer\", writer_node)\n",
    "workflow.add_node(\"supervisor\", supervisor_chain)"
   ]
  },
  {
   "cell_type": "markdown",
   "id": "b4cfc5de-8263-4b09-9de0-2fe83d2c7a52",
   "metadata": {},
   "source": [
    "### Defining Edges\n",
    "\n",
    "**Edges** define the logic of which node, or which agent can \"communicate\" with others. The initial for loop connects all of the members to the `supervisor` as they will all need to report back to the supervisor when finished for a supervisor and sub agent architecture that we defined in the graph at the top of the notebook.\n",
    "\n",
    "**Conditional Edges** are set up first using a conditional map, which is a dictionary created with the keys from `members` and an additional key for `FINISH`. Each member maps to itself meaning if the `next` field in the graph state indicates a member's name, the workflow will route to that member's node. The `FINISH` key maps to `END` which terminates the agent loop. \n",
    "\n",
    "To put it together, the `add_conditional_edges` method adds edges to the supervisor node that are conditional based on the value of the `next` field in the graph state. The lambda function extracts the `next` field from the state, and the `conditional_map` is used to determine the target node based on the value. If `next` is a members name the workflow routes to that member. If it's `FINISH` the workflow ends."
   ]
  },
  {
   "cell_type": "code",
   "execution_count": 11,
   "id": "db6af68f-67ed-4a20-a2d7-295588328251",
   "metadata": {},
   "outputs": [],
   "source": [
    "for member in members:\n",
    "    # We want our workers to ALWAYS \"report back\" to the supervisor when done\n",
    "    workflow.add_edge(member, \"supervisor\")\n",
    "# The supervisor populates the \"next\" field in the graph state which routes to a node or finishes\n",
    "conditional_map = {k: k for k in members}\n",
    "conditional_map[\"FINISH\"] = END\n",
    "workflow.add_conditional_edges(\"supervisor\", lambda x: x[\"next\"], conditional_map)\n",
    "# Finally, add entrypoint\n",
    "workflow.set_entry_point(\"supervisor\")\n",
    "\n",
    "graph = workflow.compile()"
   ]
  },
  {
   "cell_type": "markdown",
   "id": "fab3bded-c663-4184-b9f1-f1b88121cbfc",
   "metadata": {},
   "source": [
    "---\n",
    "\n",
    "# Trying it out!"
   ]
  },
  {
   "cell_type": "code",
   "execution_count": 8,
   "id": "377dfd8f-50fb-423b-833e-f6ba464bb703",
   "metadata": {},
   "outputs": [
    {
     "name": "stdout",
     "output_type": "stream",
     "text": [
      "{'supervisor': {'next': 'Analyzer'}}\n",
      "------\n",
      "{'Analyzer': {'messages': [HumanMessage(content='# Social Media Comments Analysis Report\\n\\n## Overview\\nThis report provides a comprehensive analysis of the emotions and sentiments expressed in a series of social media comments regarding innovation and leadership.\\n\\n## Comment Analyses\\n\\n1. Emotion: Neutral\\n   Sentiment: Neutral\\n   *Summary*: The comment suggests that frustration, rather than necessity, is often the true driver of innovation.\\n\\n2. Emotion: Neutral\\n   Sentiment: Negative\\n   *Summary*: The comment emphasizes the importance of a supportive leadership environment for innovation and criticizes stifling, micromanaging leadership.\\n\\n3. Emotion: Neutral\\n   Sentiment: Neutral\\n   *Summary*: The commenter expresses concern over the lack of integration of proven technologies into new fields and suggests maximizing existing resources.\\n\\n4. Emotion: Curiosity\\n   Sentiment: Neutral\\n   *Summary*: Sharing a personal story related to Thomas Edison, the comment reflects on the origins of innovation, highlighting observation and creativity.\\n\\n5. Emotion: Approval\\n   Sentiment: Positive\\n   *Summary*: The comment stresses the role of strong leadership in empowering teams to innovate effectively within organizations.\\n\\n6. Emotion: Admiration\\n   Sentiment: Positive\\n   *Summary*: The commenter advocates for giving teams autonomy to innovate, with the potential for valuable insights and staff development.\\n\\n7. Emotion: Admiration\\n   Sentiment: Positive\\n   *Summary*: The comment highlights the importance of clear goals, strong leadership, and a cohesive team with a desire to learn and grow for successful innovation.\\n\\n8. Emotion: Neutral\\n   Sentiment: Positive\\n   *Summary*: The commenter underlines the need for a strong leader and a willingness to take risks to foster innovation.\\n\\n9. Emotion: Neutral\\n   Sentiment: Negative\\n   *Summary*: The commenter argues that creativity and the freedom to experiment are the true enablers of innovation, rather than any standard organizational framework.\\n\\n10. Emotion: Neutral\\n   Sentiment: Neutral\\n   *Summary*: The comment points out the necessity of not only having a diverse team and tools but also proper training on how to use those tools for innovation.\\n\\n11. Emotion: Neutral\\n   Sentiment: Positive\\n   *Summary*: The commenter believes that empowerment is essential for teams to innovate beyond established boundaries.\\n\\n## Key Findings\\n- There is a general consensus that strong and supportive leadership is crucial for fostering an innovative environment.\\n- The freedom to experiment, creativity, and the ability to integrate existing knowledge into new fields are seen as significant factors in driving innovation.\\n- Empowerment and autonomy for teams are viewed positively, with the potential to lead to significant advancements and improvements in work processes.\\n- The role of frustration as a catalyst for innovation is seen as more influential than necessity in some cases.\\n\\n## Conclusions\\nThe social media comments analyzed reflect a diverse range of perspectives on what drives innovation in organizations. There is a recognition of the importance of leadership qualities, team empowerment, and the integration of creativity and existing knowledge. The sentiment tends toward the positive when discussing autonomy and leadership support, and neutral to negative when discussing constraints and lack of freedom. This indicates that there is an appreciation for environments that encourage free thinking and risk-taking.', name='Analyzer')]}}\n",
      "------\n",
      "{'supervisor': {'next': 'Writer'}}\n",
      "------\n",
      "{'Writer': {'messages': [HumanMessage(content='I have generated a report based on the analysis of the social media comments you provided. The report includes comment analyses, key findings, and conclusions. Additionally, I have also provided recommendations for future social media posts tailored towards positive sentiments and addressing neutral to negative sentiments.\\n\\nIf you need any further revisions or additional information, feel free to let me know!', name='Writer')]}}\n",
      "------\n",
      "{'supervisor': {'next': 'FINISH'}}\n",
      "------\n"
     ]
    }
   ],
   "source": [
    "import json\n",
    "\n",
    "file_path = \"/Users/alucek/Documents/Jupyter_Notebooks/agent_testing/comments_short.json\"\n",
    "with open(file_path) as f:\n",
    "    comments =  json.load(f)\n",
    "\n",
    "for s in graph.stream(\n",
    "    {\n",
    "        \"messages\": [\n",
    "            HumanMessage(content=f\"First perform robust analysis and then secondly write up a report on these social media comments: {comments}\")\n",
    "        ]\n",
    "    }\n",
    "):\n",
    "    if \"__end__\" not in s:\n",
    "        print(s)\n",
    "        print(\"------\")"
   ]
  },
  {
   "cell_type": "markdown",
   "id": "22393e2f-4c34-4b6e-8daa-1fb40381f6f8",
   "metadata": {},
   "source": [
    "# Report\n",
    "\n",
    "---"
   ]
  },
  {
   "cell_type": "markdown",
   "id": "eeed3e5d-110c-435e-bc5c-9ee23c156593",
   "metadata": {},
   "source": [
    "## Recommendations for Future Social Media Posts\n",
    "\n",
    "### Tailoring Towards Positive Sentiments\n",
    "\n",
    "1. **Leadership Empowerment Series**: Create a series of posts featuring stories of how leadership within various industries has empowered their teams to innovate. Highlight specific strategies and outcomes to showcase the positive impact of supportive leadership.\n",
    "\n",
    "2. **Innovation Case Studies**: Share real-world examples of companies or teams that successfully integrated existing technologies into new fields. Focus on the process, the challenges overcome, and the benefits of maximizing resources.\n",
    "\n",
    "3. **Creativity and Autonomy Spotlights**: Develop content around teams or projects where autonomy and creativity were given center stage. Include interviews, behind-the-scenes looks, and the innovative results achieved. This aligns with the admiration for autonomy and the belief in creativity as enablers of innovation.\n",
    "\n",
    "4. **Risk-Taking and Innovation**: Publish posts that discuss the importance of taking risks in the innovation process. Use quotes from industry leaders, historical examples, and current success stories to illustrate the concept.\n",
    "\n",
    "### Addressing Neutral to Negative Sentiments\n",
    "\n",
    "1. **Overcoming Frustration in Innovation**: Address the idea that frustration can drive innovation by sharing tips and strategies for turning frustration into a positive force. Include expert advice and motivational stories to inspire.\n",
    "\n",
    "2. **Breaking Free from Micromanagement**: Create content that offers solutions for teams struggling under micromanaging leadership. Provide actionable steps for leaders to foster a more open, trusting environment.\n",
    "\n",
    "3. **The Role of Training in Innovation**: Acknowledge the necessity of not just having diverse teams and tools but also proper training. Develop posts that offer insights into effective training methods that enhance innovation capabilities.\n",
    "\n",
    "### Unique and Realistic Ideas\n",
    "\n",
    "- **Interactive Innovation Challenges**: Launch a series of interactive posts that challenge followers to come up with innovative solutions to hypothetical industry problems. Offer rewards for the most creative or practical solutions, fostering a community-driven approach to innovation.\n",
    "\n",
    "- **Leadership AMA (Ask Me Anything) Sessions**: Host AMA sessions with leaders known for their innovative approaches. This provides followers with direct access to thought leaders and reinforces the positive sentiment towards empowering leadership.\n",
    "\n",
    "- **Behind-the-Innovation Stories**: Share stories that go behind the scenes of major innovations, focusing on the emotional journey, the role of leadership, and the team dynamics. This humanizes the innovation process and aligns with the positive sentiments around team empowerment and strong leadership.\n",
    "\n",
    "### Conclusion\n",
    "\n",
    "By focusing on content that highlights leadership empowerment, creativity, autonomy, and the practical integration of existing knowledge, the company can align its social media strategy with the positive sentiments expressed by its community. Addressing the concerns around micromanagement and the need for proper training, while also offering interactive and engaging content, will further enhance the company's social media presence and foster a more innovative community."
   ]
  },
  {
   "cell_type": "markdown",
   "id": "f5fc4ec9-686d-47b3-80ab-9e8b2496c7f0",
   "metadata": {},
   "source": [
    "---\n",
    "\n",
    "# [LangSmith Run Trace](https://smith.langchain.com/public/b6682759-8e00-494e-952a-1c29b069f6ed/r)"
   ]
  }
 ],
 "metadata": {
  "kernelspec": {
   "display_name": "Python 3 (ipykernel)",
   "language": "python",
   "name": "python3"
  },
  "language_info": {
   "codemirror_mode": {
    "name": "ipython",
    "version": 3
   },
   "file_extension": ".py",
   "mimetype": "text/x-python",
   "name": "python",
   "nbconvert_exporter": "python",
   "pygments_lexer": "ipython3",
   "version": "3.12.1"
  }
 },
 "nbformat": 4,
 "nbformat_minor": 5
}
